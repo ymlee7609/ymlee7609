{
  "nbformat": 4,
  "nbformat_minor": 0,
  "metadata": {
    "colab": {
      "provenance": [],
      "authorship_tag": "ABX9TyOEGMa25aehSOjoSW4Jm6Bi",
      "include_colab_link": true
    },
    "kernelspec": {
      "name": "python3",
      "display_name": "Python 3"
    },
    "language_info": {
      "name": "python"
    }
  },
  "cells": [
    {
      "cell_type": "markdown",
      "metadata": {
        "id": "view-in-github",
        "colab_type": "text"
      },
      "source": [
        "<a href=\"https://colab.research.google.com/github/ymlee7609/ymlee7609/blob/main/save_routeview_archive_data.ipynb\" target=\"_parent\"><img src=\"https://colab.research.google.com/assets/colab-badge.svg\" alt=\"Open In Colab\"/></a>"
      ]
    },
    {
      "cell_type": "code",
      "execution_count": 38,
      "metadata": {
        "colab": {
          "base_uri": "https://localhost:8080/"
        },
        "id": "L2LUAnqazUtU",
        "outputId": "64749ed0-30b3-4d56-8d5d-7f28b3792480"
      },
      "outputs": [
        {
          "output_type": "stream",
          "name": "stdout",
          "text": [
            "--2024-06-20 09:46:45--  https://archive.routeviews.org/oix-route-views/2024.05/oix-full-snapshot-2024-05-30-1200.bz2\n",
            "Resolving archive.routeviews.org (archive.routeviews.org)... 128.223.51.20, 2001:468:d01:33::80df:3314\n",
            "Connecting to archive.routeviews.org (archive.routeviews.org)|128.223.51.20|:443... connected.\n",
            "HTTP request sent, awaiting response... 200 OK\n",
            "Length: 65091396 (62M) [application/x-bzip2]\n",
            "Saving to: ‘oix-full-snapshot-2024-05-30-1200.bz2’\n",
            "\n",
            "oix-full-snapshot-2 100%[===================>]  62.08M  2.98MB/s    in 8m 29s  \n",
            "\n",
            "2024-06-20 09:55:14 (125 KB/s) - ‘oix-full-snapshot-2024-05-30-1200.bz2’ saved [65091396/65091396]\n",
            "\n"
          ]
        }
      ],
      "source": [
        "#!wget https://archive.routeviews.org/oix-route-views/2024.05/oix-full-snapshot-2024-05-31-1000.bz2\n",
        "#!wget https://archive.routeviews.org/oix-route-views/2024.05/oix-full-snapshot-2024-05-29-2200.bz2\n",
        "!wget https://archive.routeviews.org/oix-route-views/2024.05/oix-full-snapshot-2024-05-30-1200.bz2"
      ]
    },
    {
      "cell_type": "code",
      "source": [
        "#!bunzip2 oix-full-snapshot-2024-05-31-1000.bz2\n",
        "#!bunzip2 oix-full-snapshot-2024-05-29-2200.bz2\n",
        "!bunzip2 oix-full-snapshot-2024-05-30-1200.bz2"
      ],
      "metadata": {
        "id": "ESnpkQUM0Tkn"
      },
      "execution_count": 39,
      "outputs": []
    },
    {
      "cell_type": "code",
      "source": [
        "#!grep \" 17858 i\" oix-full-snapshot-2024-05-31-1000 | grep \"*  49.1\"\n",
        "#!grep \"*  49.16\" oix-full-snapshot-2024-05-31-1000 | grep \"/24\"\n",
        "#!grep \"*  149.172\" oix-full-snapshot-2024-05-29-2200\n",
        "#!grep \"*  49.172.0.0/17\" oix-full-snapshot-2024-05-29-2200 | grep \" 3209 \"\n",
        "#!grep \"*  49.1\" oix-full-snapshot-2024-05-31-1000 | grep \" 3209 \"\n",
        "!grep \"*  49.168.0.0/13\" oix-full-snapshot-2024-05-30-1200"
      ],
      "metadata": {
        "colab": {
          "base_uri": "https://localhost:8080/"
        },
        "id": "d0wFnCtK0WwY",
        "outputId": "4493f548-4449-4194-f285-b150705a5139"
      },
      "execution_count": 47,
      "outputs": [
        {
          "output_type": "stream",
          "name": "stdout",
          "text": [
            "*  49.168.0.0/13      217.192.89.50            0      0      0 3303 3786 17858 i\n",
            "*  49.168.0.0/13      203.181.248.195          0      0      0 7660 2516 3786 17858 i\n",
            "*  49.168.0.0/13      45.61.0.85               0      0      0 22652 1299 2914 3786 17858 i\n",
            "*  49.168.0.0/13      168.209.255.56           0      0      0 3741 3356 3786 17858 i\n",
            "*  49.168.0.0/13      37.139.139.17            0      0      0 57866 6830 3786 17858 i\n",
            "*  49.168.0.0/13      105.16.0.247             0      0      0 37100 3356 3786 17858 i\n",
            "*  49.168.0.0/13      12.0.1.63                0      0      0 7018 6453 3786 17858 i\n",
            "*  49.168.0.0/13      140.192.8.16             0      0      0 20130 6939 3786 17858 i\n",
            "*  49.168.0.0/13      202.232.0.3              0      0      0 2497 3786 17858 i\n",
            "*  49.168.0.0/13      91.218.184.60            0      0      0 49788 1299 2914 3786 17858 i\n",
            "*  49.168.0.0/13      137.164.16.84            0      0      0 2152 3786 17858 i\n",
            "*  49.168.0.0/13      194.153.0.253            0      0      0 5413 3356 3786 17858 i\n",
            "*  49.168.0.0/13      62.115.128.137           0      0      0 1299 2914 3786 17858 i\n",
            "*  49.168.0.0/13      129.250.1.71          2001      0      0 2914 6453 3786 17858 i\n",
            "*  49.168.0.0/13      89.149.178.10           10      0      0 3257 6453 3786 17858 i\n",
            "*  49.168.0.0/13      203.189.128.233          0      0      0 23673 58453 3786 17858 i\n",
            "*  49.168.0.0/13      206.24.210.80            0      0      0 3561 209 3356 3786 17858 i\n",
            "*  49.168.0.0/13      208.51.134.255           0      0      0 3549 3356 3786 17858 i\n",
            "*  49.168.0.0/13      202.73.40.45             0      0      0 18106 6939 3786 17858 i\n",
            "*  49.168.0.0/13      64.71.137.241            0      0      0 6939 3786 17858 i\n",
            "*  49.168.0.0/13      77.39.192.30             0      0      0 20912 3257 2914 3786 17858 i\n",
            "*  49.168.0.0/13      94.156.252.18            0      0      0 34224 3356 3786 17858 i\n",
            "*  49.168.0.0/13      147.28.7.2               0      0      0 3130 1239 3786 3786 3786 17858 i\n",
            "*  49.168.0.0/13      198.58.198.252           0      0      0 1403 6453 3786 17858 i\n",
            "*  49.168.0.0/13      208.51.134.246           0      0      0 3549 3356 3786 17858 i\n",
            "*  49.168.0.0/13      144.228.241.130        156      0      0 1239 3786 3786 3786 17858 i\n"
          ]
        }
      ]
    },
    {
      "cell_type": "code",
      "source": [],
      "metadata": {
        "id": "htQ4J4jE08a6"
      },
      "execution_count": null,
      "outputs": []
    }
  ]
}